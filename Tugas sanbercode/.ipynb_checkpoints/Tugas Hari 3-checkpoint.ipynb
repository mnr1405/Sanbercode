{
 "cells": [
  {
   "cell_type": "markdown",
   "metadata": {
    "colab_type": "text",
    "id": "a9HYUdCUsrKl"
   },
   "source": [
    "<h2>Soal 1: Comparison Operator</h2>\n",
    "\n",
    "- Berikan contoh comparison dari tipe data string\n",
    "- Berikan contoh comparison dari tipe data boolean\n",
    "- Berikan contoh comparison dari tipe data integer"
   ]
  },
  {
   "cell_type": "code",
   "execution_count": 12,
   "metadata": {
    "colab": {},
    "colab_type": "code",
    "id": "lXMCHZ71srKp"
   },
   "outputs": [
    {
     "name": "stdout",
     "output_type": "stream",
     "text": [
      "apakah kaki ayam berjumlah 3? False\n",
      "True\n",
      "False\n",
      "True\n",
      "False\n"
     ]
    }
   ],
   "source": [
    "#string\n",
    "\n",
    "def Jumlah_kaki_ayam (kaki):\n",
    "    \"\"\"Berapakah Jumlah kaki ayam?\"\"\"   \n",
    "    return kaki == 2\n",
    "print(\"apakah kaki ayam berjumlah 3?\", Jumlah_kaki_ayam(3))\n",
    "\n",
    "#ineteger\n",
    "print(3>2)\n",
    "print(2<1)\n",
    "\n",
    "#boolean\n",
    "foo = True\n",
    "bar = False\n",
    "  \n",
    "print(foo)\n",
    "print(bar)"
   ]
  },
  {
   "cell_type": "markdown",
   "metadata": {
    "colab_type": "text",
    "id": "IbNoZvVssrK5"
   },
   "source": [
    "Soal 2: Boolean Comparison\n",
    "\n",
    "- Berikan contoh gabungan multiple comparison menggunkan Boolean Comparisin 'and'\n",
    "- Berikan contoh gabungan multiple comparison menggunkan Boolean Comparisin 'or'\n",
    "- Berikan contoh gabungan multiple comparison menggunkan Boolean Comparisin 'not'"
   ]
  },
  {
   "cell_type": "code",
   "execution_count": 13,
   "metadata": {
    "colab": {},
    "colab_type": "code",
    "id": "7eU1vPLCsrK7"
   },
   "outputs": [
    {
     "name": "stdout",
     "output_type": "stream",
     "text": [
      "False\n",
      "True\n",
      "False\n"
     ]
    }
   ],
   "source": [
    "#and\n",
    "print(3<2 and 1<2)\n",
    "#or\n",
    "print(3<2 or 1<2)\n",
    "#not\n",
    "print(not(3 == 3))"
   ]
  },
  {
   "cell_type": "markdown",
   "metadata": {
    "colab_type": "text",
    "id": "Yp_g_sPMsrLH"
   },
   "source": [
    "<h2>Soal 3: If-Else Statement</h2>\n",
    "\n",
    "Lengkapi kode untuk menghasilkan suatu output yang di harapkan\n",
    "\n",
    "- Bualah sebuah if-else statement yang dimana akan mem-print 'Besar' jika ruangan adalah 'Kamar' dan ukuran lebih dari 12, kemudian mem-print 'Sedang' jika ruangan adalah 'Kamar' dan ukuran lebih dari 6 dan memprint 'Kecil' jika ruangan adalah 'Kamar' dan ukuran ruangan lebih kecil dan sama dengan 6."
   ]
  },
  {
   "cell_type": "code",
   "execution_count": 14,
   "metadata": {
    "colab": {},
    "colab_type": "code",
    "id": "euRiRNupsrLK"
   },
   "outputs": [
    {
     "name": "stdout",
     "output_type": "stream",
     "text": [
      "Besar\n"
     ]
    }
   ],
   "source": [
    "ruangan = 'Kamar'\n",
    "size = 20\n",
    "\n",
    "if(size > 12):\n",
    "    print('Besar')\n",
    "elif(size > 6 and size <= 12) :\n",
    "    print('Sedang')\n",
    "elif(size <= 6):\n",
    "    print('Kecil')"
   ]
  },
  {
   "cell_type": "markdown",
   "metadata": {
    "colab_type": "text",
    "id": "IcoJXJT1srLW"
   },
   "source": [
    "<h2>Soal 4: Comparison Operator dengan fungsi</h2>\n",
    "\n",
    "Buatlah sebuah fungsi yang menerima satu argument bertipe data numeric dan menghasilkan sebuah return sebagai berikut :\n",
    "- menghasilkan return 'Aneh' jika nilai dari argument tersebut adalah bilangan ganjil\n",
    "- menghasilkan return 'Tidak Aneh' jika nilai dari argument tersebut adalah bilangan genap dan diantara nilai 2 sampai 5 (2 dan 5 termasuk)\n",
    "- menghasilkan return 'Aneh' jika nilai dari argument tersebut adalah bilangan genap dan diantara nilai 6 sampai 20 (6 dan 20 termasuk)\n",
    "- menghasilkan return 'Tidak Aneh' jika nilai dari argument tersebut adalah bilangan genap dan lebih besari dari 20"
   ]
  },
  {
   "cell_type": "code",
   "execution_count": 15,
   "metadata": {
    "colab": {},
    "colab_type": "code",
    "id": "g8F_qfEKsrLZ"
   },
   "outputs": [
    {
     "name": "stdout",
     "output_type": "stream",
     "text": [
      "Masukan Angka:3\n",
      "aneh\n"
     ]
    }
   ],
   "source": [
    "# Buat fungsi\n",
    "def ganjil_genap(angka):\n",
    "    if(angka % 2 == 1):\n",
    "        print(\"aneh\")\n",
    "    elif(angka % 2 == 0 and angka >=2 and angka <=5 ):\n",
    "        print(\"Tidak Aneh\")\n",
    "    elif(angka % 2 == 0 and angka >=6 and angka <=20 ):\n",
    "        print(\"aneh\")\n",
    "    elif(angka % 2 == 0 and angka >20 ):\n",
    "        print(\"tidak aneh\")\n",
    "angka = int(input(\"Masukan Angka:\"))\n",
    "ganjil_genap(angka)"
   ]
  },
  {
   "cell_type": "markdown",
   "metadata": {
    "colab_type": "text",
    "id": "gf0D64xOsrLl"
   },
   "source": [
    "<h2>Soal 5: While Loop dan For Loop</h2>\n",
    "\n",
    "- Apa perbedaan while loop dan for loop?\n",
    "- Berikan contoh sederhana cara menggunakan while loop dan for loop"
   ]
  },
  {
   "cell_type": "code",
   "execution_count": 16,
   "metadata": {
    "colab": {},
    "colab_type": "code",
    "id": "l7KIgpjHsrLo"
   },
   "outputs": [
    {
     "name": "stdout",
     "output_type": "stream",
     "text": [
      "1\n",
      "2\n",
      "3\n",
      "4\n",
      "5\n",
      "apple\n",
      "banana\n",
      "cherry\n"
     ]
    }
   ],
   "source": [
    "# Tulis Kode\\\n",
    "#w\n",
    "\n",
    "#whilw\n",
    "i = 1\n",
    "while i < 6:\n",
    "  print(i)\n",
    "  i += 1\n",
    "#for\n",
    "fruits = [\"apple\", \"banana\", \"cherry\"]\n",
    "for x in fruits:\n",
    "  print(x)"
   ]
  },
  {
   "cell_type": "markdown",
   "metadata": {
    "colab_type": "text",
    "id": "fZQpBGCgsrLz"
   },
   "source": [
    "<h2>Soal 6: While Loop</h2>\n",
    "    \n",
    "Buatlah sebuah code while loop sebagai berikut :\n",
    "- Buatlah suatu fungsi yang merima satu input nilai numeric\n",
    "- Dalam fungsi, Buat sebuah while-loop dengan melakukan comparasi terhadap inputan tersebut, dimana looping/iterasi terus berjalan apabila nilai inputan tidak sama dengan 0\n",
    "- Dalam setiap iterasi update nilai variable inputan itu, jika input lebih dari 0, maka kurangi variabel tersebut sebesar 1, selain itu tambahkan 1\n",
    "- print nilai variable input dalam setiap awal iterasi"
   ]
  },
  {
   "cell_type": "code",
   "execution_count": 20,
   "metadata": {
    "colab": {},
    "colab_type": "code",
    "id": "yOiqjrU2srL1"
   },
   "outputs": [
    {
     "name": "stdout",
     "output_type": "stream",
     "text": [
      "10\n",
      "9\n",
      "8\n",
      "7\n",
      "6\n",
      "5\n",
      "4\n",
      "3\n",
      "2\n",
      "1\n"
     ]
    }
   ],
   "source": [
    "a = 10\n",
    "\n",
    "def fungsi_while(a):\n",
    "    while a  != 0:\n",
    "        print(a)\n",
    "        if(a > 0):\n",
    "            a = a-1\n",
    "fungsi_while(a)"
   ]
  },
  {
   "cell_type": "markdown",
   "metadata": {
    "colab_type": "text",
    "id": "lKzngRrlsrMD"
   },
   "source": [
    "Expected Output:\n",
    "\n",
    "10\n",
    "\n",
    "9\n",
    "\n",
    "8\n",
    "\n",
    "7\n",
    "\n",
    "6\n",
    "\n",
    "5\n",
    "\n",
    "4\n",
    "\n",
    "3\n",
    "\n",
    "2\n",
    "\n",
    "1"
   ]
  },
  {
   "cell_type": "markdown",
   "metadata": {
    "colab_type": "text",
    "id": "IWg3Z_zZsrMG"
   },
   "source": [
    "<h2>Soal 7: For Loop</h2>\n",
    "    \n",
    "Lengkapi kode untuk menghasilkan suatu output yang di harapkan:\n",
    "\n",
    "- Buatlah sebuah loop dengan mengiterasi sebuah objek list kemudian di kalikan dengan index dari list tersebut dan print hasilnya"
   ]
  },
  {
   "cell_type": "code",
   "execution_count": 26,
   "metadata": {
    "colab": {},
    "colab_type": "code",
    "id": "_Jl5i7WKsrMI"
   },
   "outputs": [
    {
     "name": "stdout",
     "output_type": "stream",
     "text": [
      "0 : 0\n",
      "1 : 16\n",
      "2 : 22\n",
      "3 : 30\n",
      "4 : 20\n"
     ]
    }
   ],
   "source": [
    "obj_list= [1, 16, 11, 10, 5]\n",
    "\n",
    "# lengkapi code di bawah\n",
    "for i, j in enumerate(obj_list):\n",
    "    j = j * i\n",
    "    print(i, ':', j )\n"
   ]
  },
  {
   "cell_type": "markdown",
   "metadata": {
    "colab_type": "text",
    "id": "OGawROjnsrMU"
   },
   "source": [
    "Expected Output:\n",
    "\n",
    "0\n",
    "\n",
    "16\n",
    "\n",
    "22\n",
    "\n",
    "30\n",
    "\n",
    "20\n"
   ]
  }
 ],
 "metadata": {
  "colab": {
   "name": "Tugas Hari 4.ipynb",
   "provenance": []
  },
  "kernelspec": {
   "display_name": "Python 3",
   "language": "python",
   "name": "python3"
  },
  "language_info": {
   "codemirror_mode": {
    "name": "ipython",
    "version": 3
   },
   "file_extension": ".py",
   "mimetype": "text/x-python",
   "name": "python",
   "nbconvert_exporter": "python",
   "pygments_lexer": "ipython3",
   "version": "3.8.2"
  }
 },
 "nbformat": 4,
 "nbformat_minor": 1
}
