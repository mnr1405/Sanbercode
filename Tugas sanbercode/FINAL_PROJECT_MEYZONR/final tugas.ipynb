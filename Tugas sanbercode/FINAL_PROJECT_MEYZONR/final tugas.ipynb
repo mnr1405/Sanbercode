{
 "cells": [
  {
   "cell_type": "code",
   "execution_count": 12,
   "id": "blank-elevation",
   "metadata": {},
   "outputs": [
    {
     "data": {
      "text/html": [
       "<div>\n",
       "<style scoped>\n",
       "    .dataframe tbody tr th:only-of-type {\n",
       "        vertical-align: middle;\n",
       "    }\n",
       "\n",
       "    .dataframe tbody tr th {\n",
       "        vertical-align: top;\n",
       "    }\n",
       "\n",
       "    .dataframe thead th {\n",
       "        text-align: right;\n",
       "    }\n",
       "</style>\n",
       "<table border=\"1\" class=\"dataframe\">\n",
       "  <thead>\n",
       "    <tr style=\"text-align: right;\">\n",
       "      <th></th>\n",
       "      <th>Negara</th>\n",
       "      <th>Kematian_anak</th>\n",
       "      <th>Ekspor</th>\n",
       "      <th>Kesehatan</th>\n",
       "      <th>Impor</th>\n",
       "      <th>Pendapatan</th>\n",
       "      <th>Inflasi</th>\n",
       "      <th>Harapan_hidup</th>\n",
       "      <th>Jumlah_fertiliti</th>\n",
       "      <th>GDPperkapita</th>\n",
       "    </tr>\n",
       "  </thead>\n",
       "  <tbody>\n",
       "    <tr>\n",
       "      <th>0</th>\n",
       "      <td>Afghanistan</td>\n",
       "      <td>90.2</td>\n",
       "      <td>10.0</td>\n",
       "      <td>7.58</td>\n",
       "      <td>44.9</td>\n",
       "      <td>1610</td>\n",
       "      <td>9.44</td>\n",
       "      <td>56.2</td>\n",
       "      <td>5.82</td>\n",
       "      <td>553</td>\n",
       "    </tr>\n",
       "    <tr>\n",
       "      <th>1</th>\n",
       "      <td>Albania</td>\n",
       "      <td>16.6</td>\n",
       "      <td>28.0</td>\n",
       "      <td>6.55</td>\n",
       "      <td>48.6</td>\n",
       "      <td>9930</td>\n",
       "      <td>4.49</td>\n",
       "      <td>76.3</td>\n",
       "      <td>1.65</td>\n",
       "      <td>4090</td>\n",
       "    </tr>\n",
       "    <tr>\n",
       "      <th>2</th>\n",
       "      <td>Algeria</td>\n",
       "      <td>27.3</td>\n",
       "      <td>38.4</td>\n",
       "      <td>4.17</td>\n",
       "      <td>31.4</td>\n",
       "      <td>12900</td>\n",
       "      <td>16.10</td>\n",
       "      <td>76.5</td>\n",
       "      <td>2.89</td>\n",
       "      <td>4460</td>\n",
       "    </tr>\n",
       "    <tr>\n",
       "      <th>3</th>\n",
       "      <td>Angola</td>\n",
       "      <td>119.0</td>\n",
       "      <td>62.3</td>\n",
       "      <td>2.85</td>\n",
       "      <td>42.9</td>\n",
       "      <td>5900</td>\n",
       "      <td>22.40</td>\n",
       "      <td>60.1</td>\n",
       "      <td>6.16</td>\n",
       "      <td>3530</td>\n",
       "    </tr>\n",
       "    <tr>\n",
       "      <th>4</th>\n",
       "      <td>Antigua and Barbuda</td>\n",
       "      <td>10.3</td>\n",
       "      <td>45.5</td>\n",
       "      <td>6.03</td>\n",
       "      <td>58.9</td>\n",
       "      <td>19100</td>\n",
       "      <td>1.44</td>\n",
       "      <td>76.8</td>\n",
       "      <td>2.13</td>\n",
       "      <td>12200</td>\n",
       "    </tr>\n",
       "    <tr>\n",
       "      <th>...</th>\n",
       "      <td>...</td>\n",
       "      <td>...</td>\n",
       "      <td>...</td>\n",
       "      <td>...</td>\n",
       "      <td>...</td>\n",
       "      <td>...</td>\n",
       "      <td>...</td>\n",
       "      <td>...</td>\n",
       "      <td>...</td>\n",
       "      <td>...</td>\n",
       "    </tr>\n",
       "    <tr>\n",
       "      <th>162</th>\n",
       "      <td>Vanuatu</td>\n",
       "      <td>29.2</td>\n",
       "      <td>46.6</td>\n",
       "      <td>5.25</td>\n",
       "      <td>52.7</td>\n",
       "      <td>2950</td>\n",
       "      <td>2.62</td>\n",
       "      <td>63.0</td>\n",
       "      <td>3.50</td>\n",
       "      <td>2970</td>\n",
       "    </tr>\n",
       "    <tr>\n",
       "      <th>163</th>\n",
       "      <td>Venezuela</td>\n",
       "      <td>17.1</td>\n",
       "      <td>28.5</td>\n",
       "      <td>4.91</td>\n",
       "      <td>17.6</td>\n",
       "      <td>16500</td>\n",
       "      <td>45.90</td>\n",
       "      <td>75.4</td>\n",
       "      <td>2.47</td>\n",
       "      <td>13500</td>\n",
       "    </tr>\n",
       "    <tr>\n",
       "      <th>164</th>\n",
       "      <td>Vietnam</td>\n",
       "      <td>23.3</td>\n",
       "      <td>72.0</td>\n",
       "      <td>6.84</td>\n",
       "      <td>80.2</td>\n",
       "      <td>4490</td>\n",
       "      <td>12.10</td>\n",
       "      <td>73.1</td>\n",
       "      <td>1.95</td>\n",
       "      <td>1310</td>\n",
       "    </tr>\n",
       "    <tr>\n",
       "      <th>165</th>\n",
       "      <td>Yemen</td>\n",
       "      <td>56.3</td>\n",
       "      <td>30.0</td>\n",
       "      <td>5.18</td>\n",
       "      <td>34.4</td>\n",
       "      <td>4480</td>\n",
       "      <td>23.60</td>\n",
       "      <td>67.5</td>\n",
       "      <td>4.67</td>\n",
       "      <td>1310</td>\n",
       "    </tr>\n",
       "    <tr>\n",
       "      <th>166</th>\n",
       "      <td>Zambia</td>\n",
       "      <td>83.1</td>\n",
       "      <td>37.0</td>\n",
       "      <td>5.89</td>\n",
       "      <td>30.9</td>\n",
       "      <td>3280</td>\n",
       "      <td>14.00</td>\n",
       "      <td>52.0</td>\n",
       "      <td>5.40</td>\n",
       "      <td>1460</td>\n",
       "    </tr>\n",
       "  </tbody>\n",
       "</table>\n",
       "<p>167 rows × 10 columns</p>\n",
       "</div>"
      ],
      "text/plain": [
       "                  Negara  Kematian_anak  Ekspor  Kesehatan  Impor  Pendapatan  \\\n",
       "0            Afghanistan           90.2    10.0       7.58   44.9        1610   \n",
       "1                Albania           16.6    28.0       6.55   48.6        9930   \n",
       "2                Algeria           27.3    38.4       4.17   31.4       12900   \n",
       "3                 Angola          119.0    62.3       2.85   42.9        5900   \n",
       "4    Antigua and Barbuda           10.3    45.5       6.03   58.9       19100   \n",
       "..                   ...            ...     ...        ...    ...         ...   \n",
       "162              Vanuatu           29.2    46.6       5.25   52.7        2950   \n",
       "163            Venezuela           17.1    28.5       4.91   17.6       16500   \n",
       "164              Vietnam           23.3    72.0       6.84   80.2        4490   \n",
       "165                Yemen           56.3    30.0       5.18   34.4        4480   \n",
       "166               Zambia           83.1    37.0       5.89   30.9        3280   \n",
       "\n",
       "     Inflasi  Harapan_hidup  Jumlah_fertiliti  GDPperkapita  \n",
       "0       9.44           56.2              5.82           553  \n",
       "1       4.49           76.3              1.65          4090  \n",
       "2      16.10           76.5              2.89          4460  \n",
       "3      22.40           60.1              6.16          3530  \n",
       "4       1.44           76.8              2.13         12200  \n",
       "..       ...            ...               ...           ...  \n",
       "162     2.62           63.0              3.50          2970  \n",
       "163    45.90           75.4              2.47         13500  \n",
       "164    12.10           73.1              1.95          1310  \n",
       "165    23.60           67.5              4.67          1310  \n",
       "166    14.00           52.0              5.40          1460  \n",
       "\n",
       "[167 rows x 10 columns]"
      ]
     },
     "execution_count": 12,
     "metadata": {},
     "output_type": "execute_result"
    }
   ],
   "source": [
    "import pandas as pd\n",
    "import seaborn as sns\n",
    "import matplotlib.pyplot as plt\n",
    "import numpy as np\n",
    "from sklearn.cluster import KMeans\n",
    "from sklearn.preprocessing import StandardScaler\n",
    "\n",
    "df = pd.read_csv('Data_Negara_HELP.csv')\n",
    "df"
   ]
  },
  {
   "cell_type": "code",
   "execution_count": 2,
   "id": "freelance-photographer",
   "metadata": {},
   "outputs": [
    {
     "data": {
      "text/plain": [
       "Negara              0\n",
       "Kematian_anak       0\n",
       "Ekspor              0\n",
       "Kesehatan           0\n",
       "Impor               0\n",
       "Pendapatan          0\n",
       "Inflasi             0\n",
       "Harapan_hidup       0\n",
       "Jumlah_fertiliti    0\n",
       "GDPperkapita        0\n",
       "dtype: int64"
      ]
     },
     "execution_count": 2,
     "metadata": {},
     "output_type": "execute_result"
    }
   ],
   "source": [
    "df.isnull().sum()"
   ]
  },
  {
   "cell_type": "code",
   "execution_count": 3,
   "id": "severe-monroe",
   "metadata": {},
   "outputs": [
    {
     "name": "stderr",
     "output_type": "stream",
     "text": [
      "c:\\python38\\lib\\site-packages\\seaborn\\_decorators.py:36: FutureWarning: Pass the following variable as a keyword arg: x. From version 0.12, the only valid positional argument will be `data`, and passing other arguments without an explicit keyword will result in an error or misinterpretation.\n",
      "  warnings.warn(\n"
     ]
    },
    {
     "data": {
      "text/plain": [
       "<matplotlib.axes._subplots.AxesSubplot at 0x20cc9974d00>"
      ]
     },
     "execution_count": 3,
     "metadata": {},
     "output_type": "execute_result"
    },
    {
     "data": {
      "image/png": "[encoded data removed]",
      "text/plain": [
       "<Figure size 432x288 with 1 Axes>"
      ]
     },
     "metadata": {
      "needs_background": "light"
     },
     "output_type": "display_data"
    }
   ],
   "source": [
    "sns.boxplot('Kesehatan', data=df)"
   ]
  },
  {
   "cell_type": "code",
   "execution_count": 4,
   "id": "addressed-lemon",
   "metadata": {},
   "outputs": [
    {
     "name": "stderr",
     "output_type": "stream",
     "text": [
      "c:\\python38\\lib\\site-packages\\seaborn\\_decorators.py:36: FutureWarning: Pass the following variable as a keyword arg: x. From version 0.12, the only valid positional argument will be `data`, and passing other arguments without an explicit keyword will result in an error or misinterpretation.\n",
      "  warnings.warn(\n"
     ]
    },
    {
     "data": {
      "text/plain": [
       "<matplotlib.axes._subplots.AxesSubplot at 0x20ceb5ae6a0>"
      ]
     },
     "execution_count": 4,
     "metadata": {},
     "output_type": "execute_result"
    },
    {
     "data": {
      "image/png": "[encoded data removed]",
      "text/plain": [
       "<Figure size 432x288 with 1 Axes>"
      ]
     },
     "metadata": {
      "needs_background": "light"
     },
     "output_type": "display_data"
    }
   ],
   "source": [
    "sns.boxplot('Pendapatan', data=df)"
   ]
  },
  {
   "cell_type": "code",
   "execution_count": 5,
   "id": "spanish-french",
   "metadata": {},
   "outputs": [
    {
     "name": "stderr",
     "output_type": "stream",
     "text": [
      "c:\\python38\\lib\\site-packages\\seaborn\\_decorators.py:36: FutureWarning: Pass the following variable as a keyword arg: x. From version 0.12, the only valid positional argument will be `data`, and passing other arguments without an explicit keyword will result in an error or misinterpretation.\n",
      "  warnings.warn(\n"
     ]
    },
    {
     "data": {
      "text/plain": [
       "<matplotlib.axes._subplots.AxesSubplot at 0x20ceb63b0d0>"
      ]
     },
     "execution_count": 5,
     "metadata": {},
     "output_type": "execute_result"
    },
    {
     "data": {
      "image/png": "[encoded data removed]",
      "text/plain": [
       "<Figure size 432x288 with 1 Axes>"
      ]
     },
     "metadata": {
      "needs_background": "light"
     },
     "output_type": "display_data"
    }
   ],
   "source": [
    "sns.boxplot('GDPperkapita', data=df)"
   ]
  },
  {
   "cell_type": "code",
   "execution_count": 6,
   "id": "plain-liability",
   "metadata": {},
   "outputs": [
    {
     "name": "stderr",
     "output_type": "stream",
     "text": [
      "c:\\python38\\lib\\site-packages\\seaborn\\_decorators.py:36: FutureWarning: Pass the following variable as a keyword arg: x. From version 0.12, the only valid positional argument will be `data`, and passing other arguments without an explicit keyword will result in an error or misinterpretation.\n",
      "  warnings.warn(\n"
     ]
    },
    {
     "data": {
      "text/plain": [
       "<matplotlib.axes._subplots.AxesSubplot at 0x20ceb6afb20>"
      ]
     },
     "execution_count": 6,
     "metadata": {},
     "output_type": "execute_result"
    },
    {
     "data": {
      "image/png": "[encoded data removed]",
      "text/plain": [
       "<Figure size 432x288 with 1 Axes>"
      ]
     },
     "metadata": {
      "needs_background": "light"
     },
     "output_type": "display_data"
    }
   ],
   "source": [
    "sns.boxplot('Inflasi', data=df)"
   ]
  },
  {
   "cell_type": "code",
   "execution_count": 7,
   "id": "optimum-complex",
   "metadata": {},
   "outputs": [
    {
     "data": {
      "text/html": [
       "<div>\n",
       "<style scoped>\n",
       "    .dataframe tbody tr th:only-of-type {\n",
       "        vertical-align: middle;\n",
       "    }\n",
       "\n",
       "    .dataframe tbody tr th {\n",
       "        vertical-align: top;\n",
       "    }\n",
       "\n",
       "    .dataframe thead th {\n",
       "        text-align: right;\n",
       "    }\n",
       "</style>\n",
       "<table border=\"1\" class=\"dataframe\">\n",
       "  <thead>\n",
       "    <tr style=\"text-align: right;\">\n",
       "      <th></th>\n",
       "      <th>Kematian_anak</th>\n",
       "      <th>Pendapatan</th>\n",
       "      <th>Harapan_hidup</th>\n",
       "      <th>GDPperkapita</th>\n",
       "    </tr>\n",
       "    <tr>\n",
       "      <th>Negara</th>\n",
       "      <th></th>\n",
       "      <th></th>\n",
       "      <th></th>\n",
       "      <th></th>\n",
       "    </tr>\n",
       "  </thead>\n",
       "  <tbody>\n",
       "    <tr>\n",
       "      <th>Afghanistan</th>\n",
       "      <td>90.2</td>\n",
       "      <td>1610</td>\n",
       "      <td>56.2</td>\n",
       "      <td>553</td>\n",
       "    </tr>\n",
       "    <tr>\n",
       "      <th>Albania</th>\n",
       "      <td>16.6</td>\n",
       "      <td>9930</td>\n",
       "      <td>76.3</td>\n",
       "      <td>4090</td>\n",
       "    </tr>\n",
       "    <tr>\n",
       "      <th>Algeria</th>\n",
       "      <td>27.3</td>\n",
       "      <td>12900</td>\n",
       "      <td>76.5</td>\n",
       "      <td>4460</td>\n",
       "    </tr>\n",
       "    <tr>\n",
       "      <th>Angola</th>\n",
       "      <td>119.0</td>\n",
       "      <td>5900</td>\n",
       "      <td>60.1</td>\n",
       "      <td>3530</td>\n",
       "    </tr>\n",
       "    <tr>\n",
       "      <th>Antigua and Barbuda</th>\n",
       "      <td>10.3</td>\n",
       "      <td>19100</td>\n",
       "      <td>76.8</td>\n",
       "      <td>12200</td>\n",
       "    </tr>\n",
       "    <tr>\n",
       "      <th>...</th>\n",
       "      <td>...</td>\n",
       "      <td>...</td>\n",
       "      <td>...</td>\n",
       "      <td>...</td>\n",
       "    </tr>\n",
       "    <tr>\n",
       "      <th>Vanuatu</th>\n",
       "      <td>29.2</td>\n",
       "      <td>2950</td>\n",
       "      <td>63.0</td>\n",
       "      <td>2970</td>\n",
       "    </tr>\n",
       "    <tr>\n",
       "      <th>Venezuela</th>\n",
       "      <td>17.1</td>\n",
       "      <td>16500</td>\n",
       "      <td>75.4</td>\n",
       "      <td>13500</td>\n",
       "    </tr>\n",
       "    <tr>\n",
       "      <th>Vietnam</th>\n",
       "      <td>23.3</td>\n",
       "      <td>4490</td>\n",
       "      <td>73.1</td>\n",
       "      <td>1310</td>\n",
       "    </tr>\n",
       "    <tr>\n",
       "      <th>Yemen</th>\n",
       "      <td>56.3</td>\n",
       "      <td>4480</td>\n",
       "      <td>67.5</td>\n",
       "      <td>1310</td>\n",
       "    </tr>\n",
       "    <tr>\n",
       "      <th>Zambia</th>\n",
       "      <td>83.1</td>\n",
       "      <td>3280</td>\n",
       "      <td>52.0</td>\n",
       "      <td>1460</td>\n",
       "    </tr>\n",
       "  </tbody>\n",
       "</table>\n",
       "<p>167 rows × 4 columns</p>\n",
       "</div>"
      ],
      "text/plain": [
       "                     Kematian_anak  Pendapatan  Harapan_hidup  GDPperkapita\n",
       "Negara                                                                     \n",
       "Afghanistan                   90.2        1610           56.2           553\n",
       "Albania                       16.6        9930           76.3          4090\n",
       "Algeria                       27.3       12900           76.5          4460\n",
       "Angola                       119.0        5900           60.1          3530\n",
       "Antigua and Barbuda           10.3       19100           76.8         12200\n",
       "...                            ...         ...            ...           ...\n",
       "Vanuatu                       29.2        2950           63.0          2970\n",
       "Venezuela                     17.1       16500           75.4         13500\n",
       "Vietnam                       23.3        4490           73.1          1310\n",
       "Yemen                         56.3        4480           67.5          1310\n",
       "Zambia                        83.1        3280           52.0          1460\n",
       "\n",
       "[167 rows x 4 columns]"
      ]
     },
     "execution_count": 7,
     "metadata": {},
     "output_type": "execute_result"
    }
   ],
   "source": [
    "def finding_outlier(df):\n",
    "    Q1= df.quantile(0.25)\n",
    "    Q3= df.quantile(0.75)\n",
    "    IQR= Q3-Q1\n",
    "    df_final= df[(df<(Q1-(1.5*IQR))) | (df<(Q3+(1.5*IQR)))]\n",
    "    return df_final\n",
    "\n",
    "df_group = df[['Negara','Kematian_anak','Pendapatan','Harapan_hidup','GDPperkapita']].set_index('Negara')\n",
    "finding_outlier(df_group)\n",
    "df_group"
   ]
  },
  {
   "cell_type": "code",
   "execution_count": 8,
   "id": "several-british",
   "metadata": {},
   "outputs": [],
   "source": [
    "def remove_outlier(df):\n",
    "    Q1= df.quantile(0.25)\n",
    "    Q3= df.quantile(0.75)\n",
    "    IQR= Q3-Q1\n",
    "    df_final= df[((df<(Q1-(1.5*IQR))) | (df<(Q3+(1.5*IQR))))]\n",
    "    return df_final"
   ]
  },
  {
   "cell_type": "code",
   "execution_count": 9,
   "id": "distributed-rescue",
   "metadata": {},
   "outputs": [
    {
     "data": {
      "text/html": [
       "<div>\n",
       "<style scoped>\n",
       "    .dataframe tbody tr th:only-of-type {\n",
       "        vertical-align: middle;\n",
       "    }\n",
       "\n",
       "    .dataframe tbody tr th {\n",
       "        vertical-align: top;\n",
       "    }\n",
       "\n",
       "    .dataframe thead th {\n",
       "        text-align: right;\n",
       "    }\n",
       "</style>\n",
       "<table border=\"1\" class=\"dataframe\">\n",
       "  <thead>\n",
       "    <tr style=\"text-align: right;\">\n",
       "      <th></th>\n",
       "      <th>Kematian_anak</th>\n",
       "      <th>Pendapatan</th>\n",
       "      <th>Harapan_hidup</th>\n",
       "      <th>GDPperkapita</th>\n",
       "    </tr>\n",
       "    <tr>\n",
       "      <th>Negara</th>\n",
       "      <th></th>\n",
       "      <th></th>\n",
       "      <th></th>\n",
       "      <th></th>\n",
       "    </tr>\n",
       "  </thead>\n",
       "  <tbody>\n",
       "    <tr>\n",
       "      <th>Afghanistan</th>\n",
       "      <td>90.2</td>\n",
       "      <td>1610.0</td>\n",
       "      <td>56.2</td>\n",
       "      <td>553.0</td>\n",
       "    </tr>\n",
       "    <tr>\n",
       "      <th>Albania</th>\n",
       "      <td>16.6</td>\n",
       "      <td>9930.0</td>\n",
       "      <td>76.3</td>\n",
       "      <td>4090.0</td>\n",
       "    </tr>\n",
       "    <tr>\n",
       "      <th>Algeria</th>\n",
       "      <td>27.3</td>\n",
       "      <td>12900.0</td>\n",
       "      <td>76.5</td>\n",
       "      <td>4460.0</td>\n",
       "    </tr>\n",
       "    <tr>\n",
       "      <th>Angola</th>\n",
       "      <td>119.0</td>\n",
       "      <td>5900.0</td>\n",
       "      <td>60.1</td>\n",
       "      <td>3530.0</td>\n",
       "    </tr>\n",
       "    <tr>\n",
       "      <th>Antigua and Barbuda</th>\n",
       "      <td>10.3</td>\n",
       "      <td>19100.0</td>\n",
       "      <td>76.8</td>\n",
       "      <td>12200.0</td>\n",
       "    </tr>\n",
       "    <tr>\n",
       "      <th>...</th>\n",
       "      <td>...</td>\n",
       "      <td>...</td>\n",
       "      <td>...</td>\n",
       "      <td>...</td>\n",
       "    </tr>\n",
       "    <tr>\n",
       "      <th>Vanuatu</th>\n",
       "      <td>29.2</td>\n",
       "      <td>2950.0</td>\n",
       "      <td>63.0</td>\n",
       "      <td>2970.0</td>\n",
       "    </tr>\n",
       "    <tr>\n",
       "      <th>Venezuela</th>\n",
       "      <td>17.1</td>\n",
       "      <td>16500.0</td>\n",
       "      <td>75.4</td>\n",
       "      <td>13500.0</td>\n",
       "    </tr>\n",
       "    <tr>\n",
       "      <th>Vietnam</th>\n",
       "      <td>23.3</td>\n",
       "      <td>4490.0</td>\n",
       "      <td>73.1</td>\n",
       "      <td>1310.0</td>\n",
       "    </tr>\n",
       "    <tr>\n",
       "      <th>Yemen</th>\n",
       "      <td>56.3</td>\n",
       "      <td>4480.0</td>\n",
       "      <td>67.5</td>\n",
       "      <td>1310.0</td>\n",
       "    </tr>\n",
       "    <tr>\n",
       "      <th>Zambia</th>\n",
       "      <td>83.1</td>\n",
       "      <td>3280.0</td>\n",
       "      <td>52.0</td>\n",
       "      <td>1460.0</td>\n",
       "    </tr>\n",
       "  </tbody>\n",
       "</table>\n",
       "<p>138 rows × 4 columns</p>\n",
       "</div>"
      ],
      "text/plain": [
       "                     Kematian_anak  Pendapatan  Harapan_hidup  GDPperkapita\n",
       "Negara                                                                     \n",
       "Afghanistan                   90.2      1610.0           56.2         553.0\n",
       "Albania                       16.6      9930.0           76.3        4090.0\n",
       "Algeria                       27.3     12900.0           76.5        4460.0\n",
       "Angola                       119.0      5900.0           60.1        3530.0\n",
       "Antigua and Barbuda           10.3     19100.0           76.8       12200.0\n",
       "...                            ...         ...            ...           ...\n",
       "Vanuatu                       29.2      2950.0           63.0        2970.0\n",
       "Venezuela                     17.1     16500.0           75.4       13500.0\n",
       "Vietnam                       23.3      4490.0           73.1        1310.0\n",
       "Yemen                         56.3      4480.0           67.5        1310.0\n",
       "Zambia                        83.1      3280.0           52.0        1460.0\n",
       "\n",
       "[138 rows x 4 columns]"
      ]
     },
     "execution_count": 9,
     "metadata": {},
     "output_type": "execute_result"
    }
   ],
   "source": [
    "df2 = remove_outlier(df_group)\n",
    "df2.dropna(axis= 0, inplace= True)\n",
    "df2"
   ]
  },
  {
   "cell_type": "code",
   "execution_count": 10,
   "id": "necessary-counter",
   "metadata": {},
   "outputs": [
    {
     "data": {
      "text/plain": [
       "<matplotlib.axes._subplots.AxesSubplot at 0x20cec6ca4c0>"
      ]
     },
     "execution_count": 10,
     "metadata": {},
     "output_type": "execute_result"
    },
    {
     "data": {
      "image/png": "[encoded data removed]",
      "text/plain": [
       "<Figure size 864x576 with 2 Axes>"
      ]
     },
     "metadata": {
      "needs_background": "light"
     },
     "output_type": "display_data"
    }
   ],
   "source": [
    "plt.figure(figsize=(12,8))\n",
    "sns.heatmap(df.corr(),annot= True)"
   ]
  },
  {
   "cell_type": "code",
   "execution_count": 13,
   "id": "generic-tackle",
   "metadata": {},
   "outputs": [
    {
     "name": "stdout",
     "output_type": "stream",
     "text": [
      "Elbow graph\n"
     ]
    },
    {
     "data": {
      "image/png": "[encoded data removed]",
      "text/plain": [
       "<Figure size 720x504 with 1 Axes>"
      ]
     },
     "metadata": {
      "needs_background": "light"
     },
     "output_type": "display_data"
    }
   ],
   "source": [
    "###corr 1 = Pendapatan - GDPperkapita\n",
    "\n",
    "##Scalling Data\n",
    "scaler = StandardScaler()\n",
    "df_scaler = scaler.fit_transform(df2[['Pendapatan','GDPperkapita']])\n",
    "df_scaler\n",
    "df_cluster = pd.DataFrame(data=df_scaler, columns=['Pendapatan','GDPperkapita'])\n",
    "\n",
    "##elbow 1\n",
    "wcss = []\n",
    "plt.figure(figsize=(10,7))\n",
    "for i in range(1,11):\n",
    "    kmeans = KMeans(n_clusters=i, init='k-means++', random_state=42)\n",
    "    kmeans.fit(df_cluster)\n",
    "    #print(kmeans.inertia_)\n",
    "    wcss.append(kmeans.inertia_)\n",
    "plt.plot(range(1,11),wcss)\n",
    "print('Elbow graph')\n",
    "plt.title('The Elbow Method : Pendapatan - GDPperkapita')\n",
    "plt.xlabel('Number of clusters')\n",
    "plt.ylabel('WCSS')\n",
    "plt.show()"
   ]
  },
  {
   "cell_type": "code",
   "execution_count": 14,
   "id": "elegant-memphis",
   "metadata": {},
   "outputs": [
    {
     "name": "stdout",
     "output_type": "stream",
     "text": [
      "n_cluster =4\n"
     ]
    },
    {
     "data": {
      "image/png": "[encoded data removed]",
      "text/plain": [
       "<Figure size 864x576 with 1 Axes>"
      ]
     },
     "metadata": {
      "needs_background": "light"
     },
     "output_type": "display_data"
    }
   ],
   "source": [
    "###clustering kmeans k=4, corr1\n",
    "kmeans1 = KMeans(n_clusters=4, random_state=42).fit(df_scaler)\n",
    "labels1 = kmeans1.labels_\n",
    "df_cluster['labels1'] = labels1 \n",
    "df_cluster\n",
    "\n",
    "\n",
    "##visualsisasi corr 1\n",
    "print('n_cluster =4')\n",
    "plt.figure(figsize=(12,8))\n",
    "plt.scatter(df_cluster['Pendapatan'][df_cluster.labels1 == 0],\n",
    "            df_cluster['GDPperkapita'][df_cluster.labels1 == 0],c='blue',s=100,edgecolor='orange')\n",
    "plt.scatter(df_cluster['Pendapatan'][df_cluster.labels1 == 1],\n",
    "            df_cluster['GDPperkapita'][df_cluster.labels1 == 1],c='red',s=100,edgecolor='orange')\n",
    "plt.scatter(df_cluster['Pendapatan'][df_cluster.labels1 == 2],\n",
    "            df_cluster['GDPperkapita'][df_cluster.labels1 == 2],c='yellow',s=100,edgecolor='orange')\n",
    "plt.scatter(df_cluster['Pendapatan'][df_cluster.labels1 == 3],\n",
    "            df_cluster['GDPperkapita'][df_cluster.labels1 == 3],c='green',s=100,edgecolor='orange')\n",
    "\n",
    "plt.scatter(kmeans1.cluster_centers_[:,0],kmeans1.cluster_centers_[:,1], c ='black', s=400)\n",
    "plt.xlabel('Pendapatan')\n",
    "plt.ylabel('GDPperkapita')\n",
    "plt.show()"
   ]
  },
  {
   "cell_type": "code",
   "execution_count": 15,
   "id": "rapid-defense",
   "metadata": {},
   "outputs": [
    {
     "data": {
      "image/png": "[encoded data removed]",
      "text/plain": [
       "<Figure size 720x504 with 1 Axes>"
      ]
     },
     "metadata": {
      "needs_background": "light"
     },
     "output_type": "display_data"
    }
   ],
   "source": [
    "##corr 2 = Kematian_anak - Harapan_hidup\n",
    "\n",
    "##Scalling Data\n",
    "scaler = StandardScaler()\n",
    "df_scaler = scaler.fit_transform(df2[['Kematian_anak','Harapan_hidup']])\n",
    "df_scaler\n",
    "df_cluster = pd.DataFrame(data=df_scaler, columns=['Kematian_anak','Harapan_hidup'])\n",
    "\n",
    "###elbow 2\n",
    "wcss = []\n",
    "plt.figure(figsize=(10,7))\n",
    "for i in range(1,11):\n",
    "    kmeans = KMeans(n_clusters=i, init='k-means++', random_state=42)\n",
    "    kmeans.fit(df_cluster)\n",
    "    #print(kmeans.inertia_)\n",
    "    wcss.append(kmeans.inertia_)\n",
    "plt.plot(range(1,11),wcss)\n",
    "plt.title('The Elbow Method : Kematian_anak - Harapan_hidup')\n",
    "plt.xlabel('Number of clusters')\n",
    "plt.ylabel('WCSS')\n",
    "plt.show()"
   ]
  },
  {
   "cell_type": "code",
   "execution_count": 16,
   "id": "fossil-academy",
   "metadata": {},
   "outputs": [
    {
     "name": "stdout",
     "output_type": "stream",
     "text": [
      "n_cluster =4\n"
     ]
    },
    {
     "data": {
      "image/png": "[encoded data removed]",
      "text/plain": [
       "<Figure size 864x576 with 1 Axes>"
      ]
     },
     "metadata": {
      "needs_background": "light"
     },
     "output_type": "display_data"
    }
   ],
   "source": [
    "###clustering kmeans k=4, corr 2\n",
    "kmeans1 = KMeans(n_clusters=4, random_state=42).fit(df_scaler)\n",
    "labels2 = kmeans1.labels_\n",
    "df_cluster['labels2'] = labels2 \n",
    "df_cluster\n",
    "\n",
    "\n",
    "##visualsisasi corr 2\n",
    "print('n_cluster =4')\n",
    "plt.figure(figsize=(12,8))\n",
    "plt.scatter(df_cluster['Kematian_anak'][df_cluster.labels2 == 0],\n",
    "            df_cluster['Harapan_hidup'][df_cluster.labels2 == 0],c='blue',s=100,edgecolor='orange')\n",
    "plt.scatter(df_cluster['Kematian_anak'][df_cluster.labels2 == 1],\n",
    "            df_cluster['Harapan_hidup'][df_cluster.labels2 == 1],c='red',s=100,edgecolor='orange')\n",
    "plt.scatter(df_cluster['Kematian_anak'][df_cluster.labels2 == 2],\n",
    "            df_cluster['Harapan_hidup'][df_cluster.labels2 == 2],c='yellow',s=100,edgecolor='orange')\n",
    "plt.scatter(df_cluster['Kematian_anak'][df_cluster.labels2 == 3],\n",
    "            df_cluster['Harapan_hidup'][df_cluster.labels2 == 3],c='green',s=100,edgecolor='orange')\n",
    "\n",
    "plt.scatter(kmeans1.cluster_centers_[:,0],kmeans1.cluster_centers_[:,1], c ='black', s=400)\n",
    "plt.xlabel('Kematian_anak')\n",
    "plt.ylabel('Harapan_hidup')\n",
    "plt.show()"
   ]
  },
  {
   "cell_type": "code",
   "execution_count": 20,
   "id": "stock-organization",
   "metadata": {},
   "outputs": [
    {
     "data": {
      "text/html": [
       "<div>\n",
       "<style scoped>\n",
       "    .dataframe tbody tr th:only-of-type {\n",
       "        vertical-align: middle;\n",
       "    }\n",
       "\n",
       "    .dataframe tbody tr th {\n",
       "        vertical-align: top;\n",
       "    }\n",
       "\n",
       "    .dataframe thead th {\n",
       "        text-align: right;\n",
       "    }\n",
       "</style>\n",
       "<table border=\"1\" class=\"dataframe\">\n",
       "  <thead>\n",
       "    <tr style=\"text-align: right;\">\n",
       "      <th></th>\n",
       "      <th>Kematian_anak</th>\n",
       "      <th>Pendapatan</th>\n",
       "      <th>Harapan_hidup</th>\n",
       "      <th>GDPperkapita</th>\n",
       "      <th>Pendapatan_GDPperkapita</th>\n",
       "      <th>Kematian_Harapan</th>\n",
       "    </tr>\n",
       "    <tr>\n",
       "      <th>Negara</th>\n",
       "      <th></th>\n",
       "      <th></th>\n",
       "      <th></th>\n",
       "      <th></th>\n",
       "      <th></th>\n",
       "      <th></th>\n",
       "    </tr>\n",
       "  </thead>\n",
       "  <tbody>\n",
       "    <tr>\n",
       "      <th>Afghanistan</th>\n",
       "      <td>90.2</td>\n",
       "      <td>1610.0</td>\n",
       "      <td>56.2</td>\n",
       "      <td>553.0</td>\n",
       "      <td>0</td>\n",
       "      <td>1</td>\n",
       "    </tr>\n",
       "    <tr>\n",
       "      <th>Angola</th>\n",
       "      <td>119.0</td>\n",
       "      <td>5900.0</td>\n",
       "      <td>60.1</td>\n",
       "      <td>3530.0</td>\n",
       "      <td>0</td>\n",
       "      <td>1</td>\n",
       "    </tr>\n",
       "    <tr>\n",
       "      <th>Benin</th>\n",
       "      <td>111.0</td>\n",
       "      <td>1820.0</td>\n",
       "      <td>61.8</td>\n",
       "      <td>758.0</td>\n",
       "      <td>0</td>\n",
       "      <td>1</td>\n",
       "    </tr>\n",
       "    <tr>\n",
       "      <th>Burkina Faso</th>\n",
       "      <td>116.0</td>\n",
       "      <td>1430.0</td>\n",
       "      <td>57.9</td>\n",
       "      <td>575.0</td>\n",
       "      <td>0</td>\n",
       "      <td>1</td>\n",
       "    </tr>\n",
       "    <tr>\n",
       "      <th>Burundi</th>\n",
       "      <td>93.6</td>\n",
       "      <td>764.0</td>\n",
       "      <td>57.7</td>\n",
       "      <td>231.0</td>\n",
       "      <td>0</td>\n",
       "      <td>1</td>\n",
       "    </tr>\n",
       "    <tr>\n",
       "      <th>Cameroon</th>\n",
       "      <td>108.0</td>\n",
       "      <td>2660.0</td>\n",
       "      <td>57.3</td>\n",
       "      <td>1310.0</td>\n",
       "      <td>0</td>\n",
       "      <td>1</td>\n",
       "    </tr>\n",
       "    <tr>\n",
       "      <th>Congo, Dem. Rep.</th>\n",
       "      <td>116.0</td>\n",
       "      <td>609.0</td>\n",
       "      <td>57.5</td>\n",
       "      <td>334.0</td>\n",
       "      <td>0</td>\n",
       "      <td>1</td>\n",
       "    </tr>\n",
       "    <tr>\n",
       "      <th>Cote d'Ivoire</th>\n",
       "      <td>111.0</td>\n",
       "      <td>2690.0</td>\n",
       "      <td>56.3</td>\n",
       "      <td>1220.0</td>\n",
       "      <td>0</td>\n",
       "      <td>1</td>\n",
       "    </tr>\n",
       "    <tr>\n",
       "      <th>Guinea</th>\n",
       "      <td>109.0</td>\n",
       "      <td>1190.0</td>\n",
       "      <td>58.0</td>\n",
       "      <td>648.0</td>\n",
       "      <td>0</td>\n",
       "      <td>1</td>\n",
       "    </tr>\n",
       "    <tr>\n",
       "      <th>Guinea-Bissau</th>\n",
       "      <td>114.0</td>\n",
       "      <td>1390.0</td>\n",
       "      <td>55.6</td>\n",
       "      <td>547.0</td>\n",
       "      <td>0</td>\n",
       "      <td>1</td>\n",
       "    </tr>\n",
       "    <tr>\n",
       "      <th>Lesotho</th>\n",
       "      <td>99.7</td>\n",
       "      <td>2380.0</td>\n",
       "      <td>46.5</td>\n",
       "      <td>1170.0</td>\n",
       "      <td>0</td>\n",
       "      <td>1</td>\n",
       "    </tr>\n",
       "    <tr>\n",
       "      <th>Malawi</th>\n",
       "      <td>90.5</td>\n",
       "      <td>1030.0</td>\n",
       "      <td>53.1</td>\n",
       "      <td>459.0</td>\n",
       "      <td>0</td>\n",
       "      <td>1</td>\n",
       "    </tr>\n",
       "    <tr>\n",
       "      <th>Mali</th>\n",
       "      <td>137.0</td>\n",
       "      <td>1870.0</td>\n",
       "      <td>59.5</td>\n",
       "      <td>708.0</td>\n",
       "      <td>0</td>\n",
       "      <td>1</td>\n",
       "    </tr>\n",
       "    <tr>\n",
       "      <th>Mozambique</th>\n",
       "      <td>101.0</td>\n",
       "      <td>918.0</td>\n",
       "      <td>54.5</td>\n",
       "      <td>419.0</td>\n",
       "      <td>0</td>\n",
       "      <td>1</td>\n",
       "    </tr>\n",
       "    <tr>\n",
       "      <th>Niger</th>\n",
       "      <td>123.0</td>\n",
       "      <td>814.0</td>\n",
       "      <td>58.8</td>\n",
       "      <td>348.0</td>\n",
       "      <td>0</td>\n",
       "      <td>1</td>\n",
       "    </tr>\n",
       "    <tr>\n",
       "      <th>Nigeria</th>\n",
       "      <td>130.0</td>\n",
       "      <td>5150.0</td>\n",
       "      <td>60.5</td>\n",
       "      <td>2330.0</td>\n",
       "      <td>0</td>\n",
       "      <td>1</td>\n",
       "    </tr>\n",
       "    <tr>\n",
       "      <th>Togo</th>\n",
       "      <td>90.3</td>\n",
       "      <td>1210.0</td>\n",
       "      <td>58.7</td>\n",
       "      <td>488.0</td>\n",
       "      <td>0</td>\n",
       "      <td>1</td>\n",
       "    </tr>\n",
       "    <tr>\n",
       "      <th>Uganda</th>\n",
       "      <td>81.0</td>\n",
       "      <td>1540.0</td>\n",
       "      <td>56.8</td>\n",
       "      <td>595.0</td>\n",
       "      <td>0</td>\n",
       "      <td>1</td>\n",
       "    </tr>\n",
       "    <tr>\n",
       "      <th>Zambia</th>\n",
       "      <td>83.1</td>\n",
       "      <td>3280.0</td>\n",
       "      <td>52.0</td>\n",
       "      <td>1460.0</td>\n",
       "      <td>0</td>\n",
       "      <td>1</td>\n",
       "    </tr>\n",
       "  </tbody>\n",
       "</table>\n",
       "</div>"
      ],
      "text/plain": [
       "                  Kematian_anak  Pendapatan  Harapan_hidup  GDPperkapita  \\\n",
       "Negara                                                                     \n",
       "Afghanistan                90.2      1610.0           56.2         553.0   \n",
       "Angola                    119.0      5900.0           60.1        3530.0   \n",
       "Benin                     111.0      1820.0           61.8         758.0   \n",
       "Burkina Faso              116.0      1430.0           57.9         575.0   \n",
       "Burundi                    93.6       764.0           57.7         231.0   \n",
       "Cameroon                  108.0      2660.0           57.3        1310.0   \n",
       "Congo, Dem. Rep.          116.0       609.0           57.5         334.0   \n",
       "Cote d'Ivoire             111.0      2690.0           56.3        1220.0   \n",
       "Guinea                    109.0      1190.0           58.0         648.0   \n",
       "Guinea-Bissau             114.0      1390.0           55.6         547.0   \n",
       "Lesotho                    99.7      2380.0           46.5        1170.0   \n",
       "Malawi                     90.5      1030.0           53.1         459.0   \n",
       "Mali                      137.0      1870.0           59.5         708.0   \n",
       "Mozambique                101.0       918.0           54.5         419.0   \n",
       "Niger                     123.0       814.0           58.8         348.0   \n",
       "Nigeria                   130.0      5150.0           60.5        2330.0   \n",
       "Togo                       90.3      1210.0           58.7         488.0   \n",
       "Uganda                     81.0      1540.0           56.8         595.0   \n",
       "Zambia                     83.1      3280.0           52.0        1460.0   \n",
       "\n",
       "                  Pendapatan_GDPperkapita  Kematian_Harapan  \n",
       "Negara                                                       \n",
       "Afghanistan                             0                 1  \n",
       "Angola                                  0                 1  \n",
       "Benin                                   0                 1  \n",
       "Burkina Faso                            0                 1  \n",
       "Burundi                                 0                 1  \n",
       "Cameroon                                0                 1  \n",
       "Congo, Dem. Rep.                        0                 1  \n",
       "Cote d'Ivoire                           0                 1  \n",
       "Guinea                                  0                 1  \n",
       "Guinea-Bissau                           0                 1  \n",
       "Lesotho                                 0                 1  \n",
       "Malawi                                  0                 1  \n",
       "Mali                                    0                 1  \n",
       "Mozambique                              0                 1  \n",
       "Niger                                   0                 1  \n",
       "Nigeria                                 0                 1  \n",
       "Togo                                    0                 1  \n",
       "Uganda                                  0                 1  \n",
       "Zambia                                  0                 1  "
      ]
     },
     "execution_count": 20,
     "metadata": {},
     "output_type": "execute_result"
    }
   ],
   "source": [
    "df2['Pendapatan_GDPperkapita'] = labels1\n",
    "df2['Kematian_Harapan'] = labels2\n",
    "\n",
    "\n",
    "df_result = df2[(df2.Pendapatan_GDPperkapita == 0) & \n",
    "                     (df2.Kematian_Harapan == 1)]\n",
    "df_result"
   ]
  }
 ],
 "metadata": {
  "kernelspec": {
   "display_name": "Python 3",
   "language": "python",
   "name": "python3"
  },
  "language_info": {
   "codemirror_mode": {
    "name": "ipython",
    "version": 3
   },
   "file_extension": ".py",
   "mimetype": "text/x-python",
   "name": "python",
   "nbconvert_exporter": "python",
   "pygments_lexer": "ipython3",
   "version": "3.8.2"
  }
 },
 "nbformat": 4,
 "nbformat_minor": 5
}
